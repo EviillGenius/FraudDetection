{
 "cells": [
  {
   "cell_type": "code",
   "execution_count": 1,
   "id": "4b08644e",
   "metadata": {},
   "outputs": [],
   "source": [
    "import pandas as pd\n",
    "import numpy as np\n",
    "import json\n",
    "from datetime import datetime\n",
    "import string\n",
    "import time\n",
    "\n",
    "from sklearn.model_selection import train_test_split\n",
    "from sklearn.metrics import accuracy_score, f1_score, confusion_matrix, recall_score,classification_report,auc,roc_curve\n",
    "\n",
    "from sklearn.linear_model import LogisticRegression\n",
    "from sklearn.ensemble import RandomForestClassifier\n",
    "from sklearn.svm import SVC\n",
    "from sklearn.utils import resample\n",
    "\n",
    "from sklearn.preprocessing import StandardScaler\n",
    "import matplotlib.pyplot as plt\n",
    "from imblearn.over_sampling import RandomOverSampler\n",
    "from imblearn.under_sampling import RandomUnderSampler\n",
    "from imblearn.under_sampling import NearMiss\n",
    "from imblearn.combine import SMOTETomek\n",
    "from catboost import CatBoostClassifier\n",
    "from sklearn import tree\n",
    "from sklearn.model_selection import GridSearchCV\n"
   ]
  },
  {
   "cell_type": "code",
   "execution_count": 2,
   "id": "7be78030",
   "metadata": {},
   "outputs": [
    {
     "data": {
      "text/plain": [
       "0    269425\n",
       "1       412\n",
       "Name: Class, dtype: int64"
      ]
     },
     "execution_count": 2,
     "metadata": {},
     "output_type": "execute_result"
    }
   ],
   "source": [
    "Feature_df = pd.read_pickle('Feature_df.pkl')\n",
    "Feature_df.Class.value_counts()"
   ]
  },
  {
   "cell_type": "code",
   "execution_count": 3,
   "id": "6947ef31",
   "metadata": {},
   "outputs": [],
   "source": [
    "def clean_dataset(df):\n",
    "    assert isinstance(df, pd.DataFrame), \"df needs to be a pd.DataFrame\"\n",
    "    df.dropna(inplace=True)\n",
    "    indices_to_keep = ~df.isin([np.nan, np.inf, -np.inf]).any(1)\n",
    "    return df[indices_to_keep]\n",
    "\n",
    "def plot_confusion_mat(y_test, y_pred):\n",
    "    import seaborn as sns\n",
    "    labels = [0, 1]\n",
    "    cm = confusion_matrix(y_test, y_pred, labels)\n",
    "    ax= plt.subplot()\n",
    "    sns.heatmap(cm, annot=True, fmt='g', ax=ax);  #annot=True to annotate cells, ftm='g' to disable scientific notation\n",
    "\n",
    "    # labels, title and ticks\n",
    "    ax.set_xlabel('Predicted labels');ax.set_ylabel('True labels'); \n",
    "    ax.set_title('Confusion Matrix'); \n",
    "    ax.xaxis.set_ticklabels(['0', '1']); ax.yaxis.set_ticklabels(['0', '1']);\n",
    "    \n"
   ]
  },
  {
   "cell_type": "markdown",
   "id": "6c8587f5",
   "metadata": {},
   "source": [
    "#### Replacing Nan Values"
   ]
  },
  {
   "cell_type": "code",
   "execution_count": 4,
   "id": "3ea84116",
   "metadata": {},
   "outputs": [],
   "source": [
    "df = Feature_df.copy()\n",
    "df.replace([np.inf, -np.inf], np.nan, inplace=True)\n",
    "df[\"mean_Rake\"] = df[[\"Rake\", \"Rake2\"]].mean(axis=1)\n",
    "df[\"mean_Frst_AddCash_1&2\"] = df[[\"Frst_AddCash\", \"Frst_AddCash2\"]].mean(axis=1)\n",
    "df[\"mean_Frst_AddCash_1&2\"].fillna(value=0, inplace=True)\n",
    "df[\"max_common_gameAB_%_of_A&B\"] = df[[\"common_gameAB_%_of_A\", \"common_gameAB_%_of_B\"]].max(axis=1)\n",
    "df['max_common_gameAB_%_of_A&B'].fillna(value=0, inplace=True)\n",
    "df['A_B_C_BY_D'].fillna(value=0, inplace=True)"
   ]
  },
  {
   "cell_type": "code",
   "execution_count": 5,
   "id": "ff7edc11",
   "metadata": {},
   "outputs": [],
   "source": [
    "df.drop(['P1_regID', 'P2_regID','p1_name','p2_name','Diff_p1block_p2_reg_minutes','Rake','Category','Rake2',\n",
    "       'Category2','common_games','Frst_AddCash', 'Frst_AddCash2','common_gameAB_%_of_A', 'common_gameAB_%_of_B',\n",
    "       'A_B_Profit'],axis='columns',inplace=True)\n"
   ]
  },
  {
   "cell_type": "code",
   "execution_count": 6,
   "id": "d9bf2822",
   "metadata": {},
   "outputs": [
    {
     "data": {
      "text/plain": [
       "Name_similarity               9\n",
       "Contacts_Overlap_%            0\n",
       "p1_p2_distance_KM             0\n",
       "Apps_overlap_%                0\n",
       "A_B_C_BY_D                    0\n",
       "Class                         0\n",
       "mean_Rake                     0\n",
       "mean_Frst_AddCash_1&2         0\n",
       "max_common_gameAB_%_of_A&B    0\n",
       "dtype: int64"
      ]
     },
     "execution_count": 6,
     "metadata": {},
     "output_type": "execute_result"
    }
   ],
   "source": [
    "df.isnull().sum()"
   ]
  },
  {
   "cell_type": "markdown",
   "id": "35f87bbf",
   "metadata": {},
   "source": [
    "## Sampling and Splitting the Data\n",
    "#### Random Undersampling and Upsamling using Smote"
   ]
  },
  {
   "cell_type": "code",
   "execution_count": 7,
   "id": "9e0c4ec5",
   "metadata": {},
   "outputs": [
    {
     "name": "stdout",
     "output_type": "stream",
     "text": [
      "Random under-over-sampling:\n",
      "0    2000\n",
      "1     412\n",
      "Name: Class, dtype: int64\n",
      "0    2000\n",
      "1    2000\n",
      "Name: Class, dtype: int64\n",
      "0    1600\n",
      "1    1600\n",
      "Name: Class, dtype: int64\n",
      "Wall time: 92 ms\n"
     ]
    }
   ],
   "source": [
    "%%time\n",
    "\n",
    "count_class_0, count_class_1 = df.Class.value_counts()\n",
    "# Divide by class\n",
    "df_class_0 = df[df['Class'] == 0]\n",
    "df_class_1 = df[df['Class'] == 1]\n",
    "\n",
    "# Undersample 0-class and concat the DataFrames of both class\n",
    "df_class_0_under = df_class_0.sample(2000)\n",
    "df_test_ = pd.concat([df_class_0_under, df_class_1], axis=0)\n",
    "\n",
    "print('Random under-over-sampling:')\n",
    "print(df_test_.Class.value_counts())\n",
    "\n",
    "y = df_test_.Class\n",
    "X = df_test_.drop(['Class'], axis=1)\n",
    "\n",
    "from imblearn.over_sampling import SMOTE\n",
    "\n",
    "smote = SMOTE(sampling_strategy='minority')\n",
    "X_sm, y_sm = smote.fit_resample(X, y)\n",
    "print(y_sm.value_counts())\n",
    "\n",
    "X_train, X_test, y_train, y_test = train_test_split(X_sm, y_sm, test_size=0.2, random_state=15, stratify=y_sm)\n",
    "# Number of classes in training Data\n",
    "print(y_train.value_counts())"
   ]
  },
  {
   "cell_type": "markdown",
   "id": "1a5e4a9c",
   "metadata": {},
   "source": [
    "### Random Forest"
   ]
  },
  {
   "cell_type": "code",
   "execution_count": 8,
   "id": "60fe0a72",
   "metadata": {},
   "outputs": [
    {
     "name": "stdout",
     "output_type": "stream",
     "text": [
      "Training Accuracy : 0.99125\n",
      "Testing Accuracy : 0.99125\n",
      "Classification Report[Randomforest]: \n",
      "               precision    recall  f1-score   support\n",
      "\n",
      "           0       1.00      0.98      0.99       400\n",
      "           1       0.98      1.00      0.99       400\n",
      "\n",
      "    accuracy                           0.99       800\n",
      "   macro avg       0.99      0.99      0.99       800\n",
      "weighted avg       0.99      0.99      0.99       800\n",
      "\n",
      "classifier_r.feature_importances_[Randomforest]: \n",
      " [0.00400058 0.00173699 0.13967079 0.01083495 0.3028682  0.05586627\n",
      " 0.03959036 0.44543187]\n"
     ]
    },
    {
     "data": {
      "text/html": [
       "<div>\n",
       "<style scoped>\n",
       "    .dataframe tbody tr th:only-of-type {\n",
       "        vertical-align: middle;\n",
       "    }\n",
       "\n",
       "    .dataframe tbody tr th {\n",
       "        vertical-align: top;\n",
       "    }\n",
       "\n",
       "    .dataframe thead th {\n",
       "        text-align: right;\n",
       "    }\n",
       "</style>\n",
       "<table border=\"1\" class=\"dataframe\">\n",
       "  <thead>\n",
       "    <tr style=\"text-align: right;\">\n",
       "      <th></th>\n",
       "      <th>Col_Name</th>\n",
       "      <th>Feature_weight</th>\n",
       "    </tr>\n",
       "  </thead>\n",
       "  <tbody>\n",
       "    <tr>\n",
       "      <th>1</th>\n",
       "      <td>Contacts_Overlap_%</td>\n",
       "      <td>0.001737</td>\n",
       "    </tr>\n",
       "    <tr>\n",
       "      <th>0</th>\n",
       "      <td>Name_similarity</td>\n",
       "      <td>0.004001</td>\n",
       "    </tr>\n",
       "    <tr>\n",
       "      <th>3</th>\n",
       "      <td>Apps_overlap_%</td>\n",
       "      <td>0.010835</td>\n",
       "    </tr>\n",
       "    <tr>\n",
       "      <th>6</th>\n",
       "      <td>mean_Frst_AddCash_1&amp;2</td>\n",
       "      <td>0.039590</td>\n",
       "    </tr>\n",
       "    <tr>\n",
       "      <th>5</th>\n",
       "      <td>mean_Rake</td>\n",
       "      <td>0.055866</td>\n",
       "    </tr>\n",
       "    <tr>\n",
       "      <th>2</th>\n",
       "      <td>p1_p2_distance_KM</td>\n",
       "      <td>0.139671</td>\n",
       "    </tr>\n",
       "    <tr>\n",
       "      <th>4</th>\n",
       "      <td>A_B_C_BY_D</td>\n",
       "      <td>0.302868</td>\n",
       "    </tr>\n",
       "    <tr>\n",
       "      <th>7</th>\n",
       "      <td>max_common_gameAB_%_of_A&amp;B</td>\n",
       "      <td>0.445432</td>\n",
       "    </tr>\n",
       "  </tbody>\n",
       "</table>\n",
       "</div>"
      ],
      "text/plain": [
       "                     Col_Name  Feature_weight\n",
       "1          Contacts_Overlap_%        0.001737\n",
       "0             Name_similarity        0.004001\n",
       "3              Apps_overlap_%        0.010835\n",
       "6       mean_Frst_AddCash_1&2        0.039590\n",
       "5                   mean_Rake        0.055866\n",
       "2           p1_p2_distance_KM        0.139671\n",
       "4                  A_B_C_BY_D        0.302868\n",
       "7  max_common_gameAB_%_of_A&B        0.445432"
      ]
     },
     "execution_count": 8,
     "metadata": {},
     "output_type": "execute_result"
    }
   ],
   "source": [
    "classifier_r = RandomForestClassifier(max_depth = 3,n_estimators = 10, criterion = 'entropy', random_state = 15)\n",
    "# classifier_r = RandomForestClassifier(max_depth = 4,n_estimators = 10, oob_score = True, n_jobs = -1,random_state =15,max_features = \"auto\", min_samples_leaf = 5)\n",
    "\n",
    "classifier_r.fit(X_train, y_train)\n",
    "# Predicting the Test set results\n",
    "y_pred_1 = classifier_r.predict(X_train)\n",
    "print('Training Accuracy :',accuracy_score(y_train,y_pred_1))\n",
    "y_pred  = classifier_r.predict(X_test)\n",
    "print('Testing Accuracy :',accuracy_score(y_test,y_pred))\n",
    "\n",
    "# Making the Confusion Matrix\n",
    "print(\"Classification Report[Randomforest]: \\n\", classification_report(y_test, y_pred))\n",
    "print(\"classifier_r.feature_importances_[Randomforest]: \\n\", classifier_r.feature_importances_)\n",
    "\n",
    "\n",
    "feature_importance_r = classifier_r.feature_importances_\n",
    "col = X_train.columns.values.tolist()\n",
    "feature_df_random = pd.DataFrame(list(zip(col, feature_importance_r)),\n",
    "               columns =['Col_Name', 'Feature_weight'])\n",
    "# plot_confusion_mat(y_test, y_pred)\n",
    "feature_df_random.sort_values('Feature_weight')"
   ]
  },
  {
   "cell_type": "code",
   "execution_count": 9,
   "id": "4967af5b",
   "metadata": {},
   "outputs": [
    {
     "name": "stdout",
     "output_type": "stream",
     "text": [
      "\n",
      " RandomForestClassifier(max_depth=10, max_features='log2', n_estimators=10,\n",
      "                       random_state=15)\n"
     ]
    }
   ],
   "source": [
    "param_grid = {\n",
    "    'criterion' : ['gini','entropy'],\n",
    "    'n_estimators': [10,20,30],\n",
    "    'max_features': ['auto', 'sqrt', 'log2'],\n",
    "    'max_depth' : [1,10],\n",
    "}\n",
    "\n",
    "CV_rfc = GridSearchCV(estimator=classifier_r, param_grid=param_grid, cv= 5)\n",
    "CV_rfc.fit(X_train, y_train)\n",
    "\n",
    "print('\\n',CV_rfc.best_estimator_)"
   ]
  },
  {
   "cell_type": "code",
   "execution_count": 10,
   "id": "1a16a2ab",
   "metadata": {},
   "outputs": [
    {
     "name": "stdout",
     "output_type": "stream",
     "text": [
      "|--- feature_5 <= 2436.92\n",
      "|   |--- feature_4 <= 1.06\n",
      "|   |   |--- feature_7 <= 8.48\n",
      "|   |   |   |--- class: 0.0\n",
      "|   |   |--- feature_7 >  8.48\n",
      "|   |   |   |--- class: 1.0\n",
      "|   |--- feature_4 >  1.06\n",
      "|   |   |--- feature_4 <= 1.42\n",
      "|   |   |   |--- class: 1.0\n",
      "|   |   |--- feature_4 >  1.42\n",
      "|   |   |   |--- class: 0.0\n",
      "|--- feature_5 >  2436.92\n",
      "|   |--- feature_2 <= 102.32\n",
      "|   |   |--- feature_2 <= 31.37\n",
      "|   |   |   |--- class: 0.0\n",
      "|   |   |--- feature_2 >  31.37\n",
      "|   |   |   |--- class: 0.0\n",
      "|   |--- feature_2 >  102.32\n",
      "|   |   |--- class: 1.0\n",
      "\n"
     ]
    },
    {
     "data": {
      "image/png": "[encoded data removed]",
      "text/plain": [
       "<Figure size 1080x720 with 1 Axes>"
      ]
     },
     "metadata": {
      "needs_background": "light"
     },
     "output_type": "display_data"
    }
   ],
   "source": [
    "fn = list(X_train.columns)\n",
    "cn =['0','1']\n",
    "\n",
    "plt.figure(figsize=(15,10))\n",
    "tree.plot_tree(classifier_r.estimators_[0],feature_names = fn, \n",
    "               class_names=cn,filled=True)\n",
    "\n",
    "print(tree.export_text(classifier_r.estimators_[0]))\n"
   ]
  },
  {
   "cell_type": "markdown",
   "id": "da0003e7",
   "metadata": {},
   "source": [
    "### Logistic Regression"
   ]
  },
  {
   "cell_type": "code",
   "execution_count": 11,
   "id": "cebd87df",
   "metadata": {},
   "outputs": [
    {
     "name": "stdout",
     "output_type": "stream",
     "text": [
      "Training Accuracy : 0.983125\n",
      "Testing Accuracy : 0.98625\n",
      "              precision    recall  f1-score   support\n",
      "\n",
      "           0       0.99      0.98      0.99       400\n",
      "           1       0.99      0.99      0.99       400\n",
      "\n",
      "    accuracy                           0.99       800\n",
      "   macro avg       0.99      0.99      0.99       800\n",
      "weighted avg       0.99      0.99      0.99       800\n",
      "\n"
     ]
    },
    {
     "name": "stderr",
     "output_type": "stream",
     "text": [
      "C:\\ProgramData\\Anaconda3\\lib\\site-packages\\sklearn\\utils\\validation.py:70: FutureWarning: Pass labels=[0, 1] as keyword args. From version 1.0 (renaming of 0.25) passing these as positional arguments will result in an error\n",
      "  warnings.warn(f\"Pass {args_msg} as keyword args. From version \"\n"
     ]
    },
    {
     "name": "stdout",
     "output_type": "stream",
     "text": [
      "Wall time: 433 ms\n"
     ]
    },
    {
     "data": {
      "text/html": [
       "<div>\n",
       "<style scoped>\n",
       "    .dataframe tbody tr th:only-of-type {\n",
       "        vertical-align: middle;\n",
       "    }\n",
       "\n",
       "    .dataframe tbody tr th {\n",
       "        vertical-align: top;\n",
       "    }\n",
       "\n",
       "    .dataframe thead th {\n",
       "        text-align: right;\n",
       "    }\n",
       "</style>\n",
       "<table border=\"1\" class=\"dataframe\">\n",
       "  <thead>\n",
       "    <tr style=\"text-align: right;\">\n",
       "      <th></th>\n",
       "      <th>Col_Name</th>\n",
       "      <th>Feature_weight</th>\n",
       "    </tr>\n",
       "  </thead>\n",
       "  <tbody>\n",
       "    <tr>\n",
       "      <th>0</th>\n",
       "      <td>Name_similarity</td>\n",
       "      <td>-1.210805</td>\n",
       "    </tr>\n",
       "    <tr>\n",
       "      <th>1</th>\n",
       "      <td>Contacts_Overlap_%</td>\n",
       "      <td>-0.145235</td>\n",
       "    </tr>\n",
       "    <tr>\n",
       "      <th>2</th>\n",
       "      <td>p1_p2_distance_KM</td>\n",
       "      <td>0.004790</td>\n",
       "    </tr>\n",
       "    <tr>\n",
       "      <th>3</th>\n",
       "      <td>Apps_overlap_%</td>\n",
       "      <td>-0.029021</td>\n",
       "    </tr>\n",
       "    <tr>\n",
       "      <th>4</th>\n",
       "      <td>A_B_C_BY_D</td>\n",
       "      <td>2.368037</td>\n",
       "    </tr>\n",
       "    <tr>\n",
       "      <th>5</th>\n",
       "      <td>mean_Rake</td>\n",
       "      <td>-0.000075</td>\n",
       "    </tr>\n",
       "    <tr>\n",
       "      <th>6</th>\n",
       "      <td>mean_Frst_AddCash_1&amp;2</td>\n",
       "      <td>-0.001960</td>\n",
       "    </tr>\n",
       "    <tr>\n",
       "      <th>7</th>\n",
       "      <td>max_common_gameAB_%_of_A&amp;B</td>\n",
       "      <td>0.492485</td>\n",
       "    </tr>\n",
       "  </tbody>\n",
       "</table>\n",
       "</div>"
      ],
      "text/plain": [
       "                     Col_Name  Feature_weight\n",
       "0             Name_similarity       -1.210805\n",
       "1          Contacts_Overlap_%       -0.145235\n",
       "2           p1_p2_distance_KM        0.004790\n",
       "3              Apps_overlap_%       -0.029021\n",
       "4                  A_B_C_BY_D        2.368037\n",
       "5                   mean_Rake       -0.000075\n",
       "6       mean_Frst_AddCash_1&2       -0.001960\n",
       "7  max_common_gameAB_%_of_A&B        0.492485"
      ]
     },
     "execution_count": 11,
     "metadata": {},
     "output_type": "execute_result"
    },
    {
     "data": {
      "image/png": "[encoded data removed]",
      "text/plain": [
       "<Figure size 432x288 with 2 Axes>"
      ]
     },
     "metadata": {
      "needs_background": "light"
     },
     "output_type": "display_data"
    }
   ],
   "source": [
    "%%time\n",
    "\n",
    "classifier = LogisticRegression(solver='liblinear').fit(X_train, y_train)\n",
    "importance = classifier.coef_[0]\n",
    "# feature_bar(importance)\n",
    "\n",
    "y_pred_1 = classifier.predict(X_train)\n",
    "print('Training Accuracy :', accuracy_score(y_train,y_pred_1))\n",
    "\n",
    "y_pred = classifier.predict(X_test)\n",
    "print('Testing Accuracy :',accuracy_score(y_test,y_pred))\n",
    "print(classification_report(y_test, y_pred))\n",
    "\n",
    "col = X_train.columns.values.tolist()\n",
    "feature_df_logistics = pd.DataFrame(list(zip(col, importance)),\n",
    "               columns =['Col_Name', 'Feature_weight'])\n",
    "\n",
    "plot_confusion_mat(y_test, y_pred)\n",
    "feature_df_logistics"
   ]
  },
  {
   "cell_type": "markdown",
   "id": "72a19b27",
   "metadata": {},
   "source": [
    "### CatBoost"
   ]
  },
  {
   "cell_type": "code",
   "execution_count": 16,
   "id": "dc3e14a7",
   "metadata": {},
   "outputs": [
    {
     "data": {
      "application/vnd.jupyter.widget-view+json": {
       "model_id": "fc2655a4b52748ffb420fd0215729fae",
       "version_major": 2,
       "version_minor": 0
      },
      "text/plain": [
       "MetricVisualizer(layout=Layout(align_self='stretch', height='500px'))"
      ]
     },
     "metadata": {},
     "output_type": "display_data"
    },
    {
     "name": "stdout",
     "output_type": "stream",
     "text": [
      "Learning rate set to 0.423281\n",
      "0:\tlearn: 0.9854624\ttest: 0.9888199\tbest: 0.9888199 (0)\ttotal: 786us\tremaining: 3.14ms\n",
      "1:\tlearn: 0.9854624\ttest: 0.9888199\tbest: 0.9888199 (0)\ttotal: 1.88ms\tremaining: 2.82ms\n",
      "2:\tlearn: 0.9857673\ttest: 0.9888199\tbest: 0.9888199 (0)\ttotal: 3.32ms\tremaining: 2.22ms\n",
      "3:\tlearn: 0.9857673\ttest: 0.9888199\tbest: 0.9888199 (0)\ttotal: 4.09ms\tremaining: 1.02ms\n",
      "4:\tlearn: 0.9876007\ttest: 0.9900498\tbest: 0.9900498 (4)\ttotal: 4.8ms\tremaining: 0us\n",
      "\n",
      "bestTest = 0.9900497512\n",
      "bestIteration = 4\n",
      "\n",
      "classification_repoty[CatBoost]: \n",
      "               precision    recall  f1-score   support\n",
      "\n",
      "           0       0.99      0.98      0.99       400\n",
      "           1       0.99      0.99      0.99       400\n",
      "\n",
      "    accuracy                           0.99       800\n",
      "   macro avg       0.99      0.99      0.99       800\n",
      "weighted avg       0.99      0.99      0.99       800\n",
      "\n",
      "classifier.feature_importances_[CatBoost]: \n",
      " [6.59631619e-03 0.00000000e+00 0.00000000e+00 1.48938429e-03\n",
      " 3.82145522e+01 3.82745822e-02 9.38478195e-02 6.16452397e+01]\n",
      "Training Accuracy : 0.99125\n",
      "Testing Accuracy : 0.99\n"
     ]
    },
    {
     "data": {
      "text/html": [
       "<div>\n",
       "<style scoped>\n",
       "    .dataframe tbody tr th:only-of-type {\n",
       "        vertical-align: middle;\n",
       "    }\n",
       "\n",
       "    .dataframe tbody tr th {\n",
       "        vertical-align: top;\n",
       "    }\n",
       "\n",
       "    .dataframe thead th {\n",
       "        text-align: right;\n",
       "    }\n",
       "</style>\n",
       "<table border=\"1\" class=\"dataframe\">\n",
       "  <thead>\n",
       "    <tr style=\"text-align: right;\">\n",
       "      <th></th>\n",
       "      <th>Col_Name</th>\n",
       "      <th>Feature_weight</th>\n",
       "    </tr>\n",
       "  </thead>\n",
       "  <tbody>\n",
       "    <tr>\n",
       "      <th>1</th>\n",
       "      <td>Contacts_Overlap_%</td>\n",
       "      <td>0.000000</td>\n",
       "    </tr>\n",
       "    <tr>\n",
       "      <th>2</th>\n",
       "      <td>p1_p2_distance_KM</td>\n",
       "      <td>0.000000</td>\n",
       "    </tr>\n",
       "    <tr>\n",
       "      <th>3</th>\n",
       "      <td>Apps_overlap_%</td>\n",
       "      <td>0.001489</td>\n",
       "    </tr>\n",
       "    <tr>\n",
       "      <th>0</th>\n",
       "      <td>Name_similarity</td>\n",
       "      <td>0.006596</td>\n",
       "    </tr>\n",
       "    <tr>\n",
       "      <th>5</th>\n",
       "      <td>mean_Rake</td>\n",
       "      <td>0.038275</td>\n",
       "    </tr>\n",
       "    <tr>\n",
       "      <th>6</th>\n",
       "      <td>mean_Frst_AddCash_1&amp;2</td>\n",
       "      <td>0.093848</td>\n",
       "    </tr>\n",
       "    <tr>\n",
       "      <th>4</th>\n",
       "      <td>A_B_C_BY_D</td>\n",
       "      <td>38.214552</td>\n",
       "    </tr>\n",
       "    <tr>\n",
       "      <th>7</th>\n",
       "      <td>max_common_gameAB_%_of_A&amp;B</td>\n",
       "      <td>61.645240</td>\n",
       "    </tr>\n",
       "  </tbody>\n",
       "</table>\n",
       "</div>"
      ],
      "text/plain": [
       "                     Col_Name  Feature_weight\n",
       "1          Contacts_Overlap_%        0.000000\n",
       "2           p1_p2_distance_KM        0.000000\n",
       "3              Apps_overlap_%        0.001489\n",
       "0             Name_similarity        0.006596\n",
       "5                   mean_Rake        0.038275\n",
       "6       mean_Frst_AddCash_1&2        0.093848\n",
       "4                  A_B_C_BY_D       38.214552\n",
       "7  max_common_gameAB_%_of_A&B       61.645240"
      ]
     },
     "execution_count": 16,
     "metadata": {},
     "output_type": "execute_result"
    }
   ],
   "source": [
    "model_cb = CatBoostClassifier(max_depth=2, iterations=5, \n",
    "                              random_state = 10, \n",
    "                              eval_metric=\"F1\")\n",
    "\n",
    "model_cb.fit(X_train, y_train, plot=True, \n",
    "             eval_set=(X_test, y_test))\n",
    "\n",
    "y_pred = model_cb.predict(X_test)\n",
    "print(\"classification_repoty[CatBoost]: \\n\",classification_report(y_test, y_pred))\n",
    "print(\"classifier.feature_importances_[CatBoost]: \\n\", model_cb.feature_importances_)\n",
    "y_pred_1 = classifier_r.predict(X_train)\n",
    "print('Training Accuracy :',accuracy_score(y_train,y_pred_1))\n",
    "print('Testing Accuracy :',accuracy_score(y_test,y_pred))\n",
    "\n",
    "feature_importance_rr = model_cb.feature_importances_\n",
    "col = X_train.columns.values.tolist()\n",
    "feature_df_CatBoost = pd.DataFrame(list(zip(col, feature_importance_rr)),\n",
    "               columns =['Col_Name', 'Feature_weight'])\n",
    "\n",
    "feature_df_CatBoost.sort_values('Feature_weight')"
   ]
  }
 ],
 "metadata": {
  "kernelspec": {
   "display_name": "Python 3",
   "language": "python",
   "name": "python3"
  },
  "language_info": {
   "codemirror_mode": {
    "name": "ipython",
    "version": 3
   },
   "file_extension": ".py",
   "mimetype": "text/x-python",
   "name": "python",
   "nbconvert_exporter": "python",
   "pygments_lexer": "ipython3",
   "version": "3.8.8"
  }
 },
 "nbformat": 4,
 "nbformat_minor": 5
}
